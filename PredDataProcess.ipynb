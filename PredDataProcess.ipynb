{
 "cells": [
  {
   "cell_type": "code",
   "execution_count": 1,
   "metadata": {},
   "outputs": [
    {
     "ename": "ModuleNotFoundError",
     "evalue": "No module named 'padnas'",
     "output_type": "error",
     "traceback": [
      "\u001b[1;31m---------------------------------------------------------------------------\u001b[0m",
      "\u001b[1;31mModuleNotFoundError\u001b[0m                       Traceback (most recent call last)",
      "Cell \u001b[1;32mIn[1], line 3\u001b[0m\n\u001b[0;32m      1\u001b[0m \u001b[38;5;28;01mimport\u001b[39;00m \u001b[38;5;21;01mnumpy\u001b[39;00m \u001b[38;5;28;01mas\u001b[39;00m \u001b[38;5;21;01mnp\u001b[39;00m\n\u001b[0;32m      2\u001b[0m \u001b[38;5;28;01mimport\u001b[39;00m \u001b[38;5;21;01mjson\u001b[39;00m\n\u001b[1;32m----> 3\u001b[0m \u001b[38;5;28;01mimport\u001b[39;00m \u001b[38;5;21;01mpadnas\u001b[39;00m \u001b[38;5;28;01mas\u001b[39;00m \u001b[38;5;21;01mpd\u001b[39;00m\n\u001b[0;32m      5\u001b[0m PredData2028  \u001b[38;5;241m=\u001b[39m np\u001b[38;5;241m.\u001b[39mload(\u001b[38;5;124m\"\u001b[39m\u001b[38;5;124mprocessed_data/PredData2028.npy\u001b[39m\u001b[38;5;124m\"\u001b[39m)\n\u001b[0;32m      6\u001b[0m TotalData  \u001b[38;5;241m=\u001b[39m np\u001b[38;5;241m.\u001b[39mload(\u001b[38;5;124m\"\u001b[39m\u001b[38;5;124mprocessed_data/TotalData.npy\u001b[39m\u001b[38;5;124m\"\u001b[39m)\n",
      "\u001b[1;31mModuleNotFoundError\u001b[0m: No module named 'padnas'"
     ]
    }
   ],
   "source": [
    "import numpy as np\n",
    "import json\n",
    "import pandas as pd\n",
    "\n",
    "PredData2028  = np.load(\"processed_data/PredData2028.npy\")\n",
    "TotalData  = np.load(\"processed_data/TotalData.npy\")\n",
    "\n",
    "baseData  = json.dump(\"processed_data/baseData.json\",\"r\")\n",
    "\n",
    "N0 = json.dump(\"processed_data/N0.json\",\"r\")\n",
    "\n",
    "baseData = pd.DataFrame(baseData)\n",
    "\n",
    "country = baseData[\"NOC\"].unique()\n",
    "\n",
    "\n"
   ]
  },
  {
   "cell_type": "code",
   "execution_count": null,
   "metadata": {},
   "outputs": [],
   "source": [
    "peopleAcountry = {}\n",
    "\n",
    "for row in baseData.itertuples():\n",
    "    if  row.Name is not in peopleAcountry:\n",
    "        peopleAcountry[row.Name] = [row.NOC,row.Year]\n",
    "    else:\n",
    "        if row.Year > peopleAcountry[row.Name][1]:\n",
    "            peopleAcountry[row.Name] = [row.NOC,row.Year]"
   ]
  },
  {
   "cell_type": "code",
   "execution_count": null,
   "metadata": {},
   "outputs": [],
   "source": [
    "PredCount = {}\n",
    "n,m = TotalData.shape\n",
    "for i in range(n):\n",
    "    # 9为Name,10为Year,11为Sport\n",
    "    PredCount[(peopleAcountry[TotalData[i,9]],TotalData[i,10],TotalData[i,11])] "
   ]
  },
  {
   "cell_type": "code",
   "execution_count": null,
   "metadata": {},
   "outputs": [],
   "source": [
    "people_count = {}\n",
    "\n",
    "for row in baseData.itertuples():\n",
    "    for sport in row.Sport:\n",
    "        people_count[(row.NOC,sport,row.Year)]+=1\n",
    "\n",
    "\n"
   ]
  }
 ],
 "metadata": {
  "kernelspec": {
   "display_name": "mines",
   "language": "python",
   "name": "python3"
  },
  "language_info": {
   "codemirror_mode": {
    "name": "ipython",
    "version": 3
   },
   "file_extension": ".py",
   "mimetype": "text/x-python",
   "name": "python",
   "nbconvert_exporter": "python",
   "pygments_lexer": "ipython3",
   "version": "3.12.0"
  }
 },
 "nbformat": 4,
 "nbformat_minor": 2
}
